{
 "cells": [
  {
   "cell_type": "code",
   "execution_count": 2,
   "id": "64714b4e",
   "metadata": {},
   "outputs": [
    {
     "name": "stdout",
     "output_type": "stream",
     "text": [
      "Welcome to the guessing game!\n",
      "What's your guess? 50\n",
      "Your guess is too high. Try again.\n",
      "What's your guess? 40\n",
      "Your guess is too high. Try again.\n",
      "What's your guess? 30\n",
      "Your guess is too low. Try again.\n",
      "What's your guess? 35\n",
      "Your guess is too high. Try again.\n",
      "What's your guess? 33\n",
      "Your guess is too high. Try again.\n",
      "What's your guess? 32\n",
      "Your guess is too high. Try again.\n",
      "What's your guess? 31\n",
      "Congratulations, you guessed the number!!, Would you like to play again?\n"
     ]
    }
   ],
   "source": [
    "import random\n",
    "guesses_allowed = 10\n",
    "print(\"Welcome to the guessing game!\")\n",
    "number = random.randint(1,100)\n",
    "for i in range(guesses_allowed):\n",
    "    guess = int(input(\"What's your guess? \"))\n",
    "    if guess == number:\n",
    "        print(\"Congratulations, you guessed the number!!, Would you like to play again?\")\n",
    "        break\n",
    "    else:\n",
    "        if guess > number:\n",
    "            print(\"Your guess is too high. Try again.\")\n",
    "        else:\n",
    "            print(\"Your guess is too low. Try again.\")\n",
    "if guess != number:\n",
    "    print(\"Sorry, you didn't guess the number\")\n"
   ]
  },
  {
   "cell_type": "code",
   "execution_count": null,
   "id": "0d1da8e2",
   "metadata": {},
   "outputs": [],
   "source": []
  }
 ],
 "metadata": {
  "kernelspec": {
   "display_name": "Python 3 (ipykernel)",
   "language": "python",
   "name": "python3"
  },
  "language_info": {
   "codemirror_mode": {
    "name": "ipython",
    "version": 3
   },
   "file_extension": ".py",
   "mimetype": "text/x-python",
   "name": "python",
   "nbconvert_exporter": "python",
   "pygments_lexer": "ipython3",
   "version": "3.9.13"
  }
 },
 "nbformat": 4,
 "nbformat_minor": 5
}
